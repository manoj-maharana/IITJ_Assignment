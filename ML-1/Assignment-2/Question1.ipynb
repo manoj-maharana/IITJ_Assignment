{
 "cells": [
  {
   "cell_type": "code",
   "execution_count": 34,
   "metadata": {},
   "outputs": [],
   "source": [
    "import pandas as pd\n",
    "import numpy as np\n",
    "import matplotlib.pyplot as plt\n",
    "from sklearn.metrics import  roc_curve"
   ]
  },
  {
   "cell_type": "code",
   "execution_count": 35,
   "metadata": {},
   "outputs": [
    {
     "data": {
      "text/html": [
       "<div>\n",
       "<style scoped>\n",
       "    .dataframe tbody tr th:only-of-type {\n",
       "        vertical-align: middle;\n",
       "    }\n",
       "\n",
       "    .dataframe tbody tr th {\n",
       "        vertical-align: top;\n",
       "    }\n",
       "\n",
       "    .dataframe thead th {\n",
       "        text-align: right;\n",
       "    }\n",
       "</style>\n",
       "<table border=\"1\" class=\"dataframe\">\n",
       "  <thead>\n",
       "    <tr style=\"text-align: right;\">\n",
       "      <th></th>\n",
       "      <th>Id</th>\n",
       "      <th>SepalLengthCm</th>\n",
       "      <th>SepalWidthCm</th>\n",
       "      <th>PetalLengthCm</th>\n",
       "      <th>PetalWidthCm</th>\n",
       "      <th>Species</th>\n",
       "    </tr>\n",
       "  </thead>\n",
       "  <tbody>\n",
       "    <tr>\n",
       "      <th>145</th>\n",
       "      <td>146</td>\n",
       "      <td>6.7</td>\n",
       "      <td>3.0</td>\n",
       "      <td>5.2</td>\n",
       "      <td>2.3</td>\n",
       "      <td>Iris-virginica</td>\n",
       "    </tr>\n",
       "    <tr>\n",
       "      <th>146</th>\n",
       "      <td>147</td>\n",
       "      <td>6.3</td>\n",
       "      <td>2.5</td>\n",
       "      <td>5.0</td>\n",
       "      <td>1.9</td>\n",
       "      <td>Iris-virginica</td>\n",
       "    </tr>\n",
       "    <tr>\n",
       "      <th>147</th>\n",
       "      <td>148</td>\n",
       "      <td>6.5</td>\n",
       "      <td>3.0</td>\n",
       "      <td>5.2</td>\n",
       "      <td>2.0</td>\n",
       "      <td>Iris-virginica</td>\n",
       "    </tr>\n",
       "    <tr>\n",
       "      <th>148</th>\n",
       "      <td>149</td>\n",
       "      <td>6.2</td>\n",
       "      <td>3.4</td>\n",
       "      <td>5.4</td>\n",
       "      <td>2.3</td>\n",
       "      <td>Iris-virginica</td>\n",
       "    </tr>\n",
       "    <tr>\n",
       "      <th>149</th>\n",
       "      <td>150</td>\n",
       "      <td>5.9</td>\n",
       "      <td>3.0</td>\n",
       "      <td>5.1</td>\n",
       "      <td>1.8</td>\n",
       "      <td>Iris-virginica</td>\n",
       "    </tr>\n",
       "  </tbody>\n",
       "</table>\n",
       "</div>"
      ],
      "text/plain": [
       "      Id  SepalLengthCm  SepalWidthCm  PetalLengthCm  PetalWidthCm  \\\n",
       "145  146            6.7           3.0            5.2           2.3   \n",
       "146  147            6.3           2.5            5.0           1.9   \n",
       "147  148            6.5           3.0            5.2           2.0   \n",
       "148  149            6.2           3.4            5.4           2.3   \n",
       "149  150            5.9           3.0            5.1           1.8   \n",
       "\n",
       "            Species  \n",
       "145  Iris-virginica  \n",
       "146  Iris-virginica  \n",
       "147  Iris-virginica  \n",
       "148  Iris-virginica  \n",
       "149  Iris-virginica  "
      ]
     },
     "execution_count": 35,
     "metadata": {},
     "output_type": "execute_result"
    }
   ],
   "source": [
    "#Read the dataset \n",
    "iris = pd.read_csv(r'C:\\Users\\Manoj\\Desktop\\IIT JODHPUR_ASSIGNMENT\\ML-1\\Fractal-1\\Assignment-2\\Iris.csv')\n",
    "\n",
    "#iris.head()\n",
    "iris.tail()\n"
   ]
  },
  {
   "cell_type": "code",
   "execution_count": 36,
   "metadata": {
    "scrolled": true
   },
   "outputs": [
    {
     "name": "stdout",
     "output_type": "stream",
     "text": [
      "<class 'pandas.core.frame.DataFrame'>\n",
      "RangeIndex: 150 entries, 0 to 149\n",
      "Data columns (total 6 columns):\n",
      " #   Column         Non-Null Count  Dtype  \n",
      "---  ------         --------------  -----  \n",
      " 0   Id             150 non-null    int64  \n",
      " 1   SepalLengthCm  150 non-null    float64\n",
      " 2   SepalWidthCm   150 non-null    float64\n",
      " 3   PetalLengthCm  150 non-null    float64\n",
      " 4   PetalWidthCm   150 non-null    float64\n",
      " 5   Species        150 non-null    object \n",
      "dtypes: float64(4), int64(1), object(1)\n",
      "memory usage: 7.2+ KB\n"
     ]
    }
   ],
   "source": [
    "iris.info()"
   ]
  },
  {
   "cell_type": "code",
   "execution_count": 37,
   "metadata": {},
   "outputs": [
    {
     "data": {
      "image/png": "[encoded data removed]",
      "text/plain": [
       "<Figure size 720x360 with 1 Axes>"
      ]
     },
     "metadata": {
      "needs_background": "light"
     },
     "output_type": "display_data"
    }
   ],
   "source": [
    "import seaborn as sns \n",
    "g=sns.relplot(x='SepalLengthCm', y='SepalWidthCm', data=iris, hue = 'Species', style = 'Species')\n",
    "g.fig.set_size_inches(10,5)\n",
    "plt.show()"
   ]
  },
  {
   "cell_type": "code",
   "execution_count": 38,
   "metadata": {},
   "outputs": [],
   "source": [
    "# This function splits the 150 data points into 120 train and 30 test datasets\n",
    "def split_train_test(iris):\n",
    "    # getting 80% data as training from each class\n",
    "    train1 = iris.iloc[:50,:].sample(frac=0.8)\n",
    "    train2 = iris.iloc[50:100].sample(frac=0.8)\n",
    "    train3 = iris.iloc[100:150].sample(frac=0.8)\n",
    "    frames = [train1, train2, train3]\n",
    "    trainf = pd.concat(frames)\n",
    "\n",
    "    # Preparing remaining 20% data as test data from each class\n",
    "    testf = iris.merge(trainf, how = 'outer' ,indicator=True).loc[lambda x : x['_merge']=='left_only']\n",
    "    testf = testf.iloc[:,:6]\n",
    "    trainf.merge(testf, how = 'inner' ,indicator=False)  # Just for debugging\n",
    "    return trainf, testf"
   ]
  },
  {
   "cell_type": "code",
   "execution_count": 39,
   "metadata": {},
   "outputs": [],
   "source": [
    "def target(trainf, testf):\n",
    "    X_train = trainf.iloc[:,1:5].values.tolist()\n",
    "    Y_train = trainf.iloc[:,-1].values.tolist()\n",
    "    X_test = testf.iloc[:,1:5].values.tolist()\n",
    "    Y_test = testf.iloc[:,-1].values.tolist()\n",
    "\n",
    "    # Label encoding\n",
    "    for i in range(len(Y_train)):\n",
    "        if Y_train[i] == 'Iris-setosa':\n",
    "            Y_train[i] = 0\n",
    "        if Y_train[i] ==  'Iris-versicolor' :\n",
    "            Y_train[i] = 1\n",
    "        if Y_train[i] == 'Iris-virginica' :\n",
    "            Y_train[i] = 2\n",
    "\n",
    "    for i in range(len(Y_test)):\n",
    "        if Y_test[i] == 'Iris-setosa':\n",
    "            Y_test[i] = 0\n",
    "        if Y_test[i] ==  'Iris-versicolor' :\n",
    "            Y_test[i] = 1\n",
    "        if Y_test[i] == 'Iris-virginica' :\n",
    "            Y_test[i] = 2\n",
    "    \n",
    "    return X_train, X_test, Y_train, Y_test"
   ]
  },
  {
   "cell_type": "markdown",
   "metadata": {},
   "source": [
    "Naive Bayes Algorithm"
   ]
  },
  {
   "cell_type": "code",
   "execution_count": 40,
   "metadata": {},
   "outputs": [],
   "source": [
    "class NaiveBayesClassification:\n",
    "    \n",
    "    def fit(self, X, y):\n",
    "        # Here in iris datset we have n_samples = 120 and n_features = 4\n",
    "        n_samples, n_features = len(X), len(X[0])\n",
    "        self._classes = np.unique(y)\n",
    "        n_classes = len(self._classes)\n",
    "        \n",
    "        # init mean, var, priors\n",
    "        self._mean = np.zeros((n_classes, n_features), dtype = np.float64)\n",
    "        self._var = np.zeros((n_classes, n_features), dtype = np.float64)\n",
    "        self._priors = np.zeros(n_classes, dtype = np.float64)\n",
    "        \n",
    "        # split by class\n",
    "        C = np.array([X[:40],X[40:80],X[80:]])\n",
    "        \n",
    "        # calculating means, variances and prior probabilities for all classes\n",
    "        for c in self._classes :\n",
    "            X_c = C[c]\n",
    "            self._mean[c] = np.mean(X_c, axis=0)\n",
    "            self._var[c] = np.var(X_c, axis=0)\n",
    "            self._priors[c] = X_c.shape[0] / float(n_samples)\n",
    "\n",
    "    # this function creates a list of predictions for test data\n",
    "    def predict(self, X):\n",
    "        y_pred = [self._predict(x) for x in X]\n",
    "        return y_pred\n",
    "\n",
    "    # this function predicts for a sample test datapoint\n",
    "    def _predict(self, x):\n",
    "        posteriors = []\n",
    "\n",
    "        for i, c in enumerate(self._classes):\n",
    "\n",
    "            # Log is a increasing function we are using it for optimizing,\n",
    "            # ,computations of posteriors probabilities to reduce overflow problem\n",
    "            prior = np.log(self._priors[i])\n",
    "            class_conditional = np.sum(np.log(self._pdf(i, x)))\n",
    "            posterior = class_conditional + prior\n",
    "            posteriors.append(posterior)\n",
    "\n",
    "        return self._classes[np.argmax(posteriors)]\n",
    "\n",
    "    # with naive assumption of independence of features\n",
    "    # calculating pdf for all conditional probabilities considering gaussian distribution\n",
    "    def _pdf(self, class_i, x):\n",
    "        mean = self._mean[class_i]\n",
    "        var = self._var[class_i]\n",
    "        numerator = np.exp( -(x - mean)**2 / (2*var) )\n",
    "        denominator = np.sqrt(2 * np.pi * var)\n",
    "        return numerator / denominator\n",
    "        \n",
    "    # this functions calculates accuracy of Naivebaye's predictions\n",
    "    def accuracy(self, y_true, y_pred):\n",
    "        n = len(y_true)\n",
    "        match = []\n",
    "        for i in range(n):\n",
    "            match.append(y_true[i]== y_pred[i])\n",
    "        acc = np.sum(match) / n\n",
    "        return acc"
   ]
  },
  {
   "cell_type": "code",
   "execution_count": 41,
   "metadata": {},
   "outputs": [],
   "source": [
    "# splitting tha dataset\n",
    "trainf, testf = split_train_test(iris)\n",
    "\n",
    "# test, train, target\n",
    "X_train, X_test, Y_train, Y_test = target(trainf,testf)\n",
    "        \n",
    "# run naivebayes\n",
    "nb = NaiveBayesClassification()\n",
    "nb.fit(X_train, Y_train)\n",
    "predictions = nb.predict(X_test)\n",
    "acc_i = nb.accuracy(Y_test, predictions)"
   ]
  },
  {
   "cell_type": "code",
   "execution_count": 42,
   "metadata": {},
   "outputs": [
    {
     "name": "stdout",
     "output_type": "stream",
     "text": [
      "The Predicted :  [0, 0, 0, 0, 0, 0, 0, 0, 0, 0, 1, 1, 1, 1, 1, 1, 1, 1, 1, 1, 2, 2, 2, 2, 2, 2, 1, 2, 2, 2]\n",
      "\n",
      "NaiveBayes classification accuracy is :  96.66666666666667\n",
      "\n"
     ]
    }
   ],
   "source": [
    "# acc_i is the accuracy of the current iteration\n",
    "acc_i = nb.accuracy(Y_test, predictions)\n",
    "\n",
    "print(\"The Predicted : \",predictions)\n",
    "print(\"\\nNaiveBayes classification accuracy is : \",acc_i*100)\n",
    "print()"
   ]
  },
  {
   "cell_type": "code",
   "execution_count": 43,
   "metadata": {},
   "outputs": [],
   "source": [
    "def compute_confusion_matrix(actual, pred):\n",
    "\n",
    "  K = len(np.unique(actual)) # Number of classes \n",
    "  result = np.zeros((K, K))\n",
    "\n",
    "  for i in range(len(actual)):\n",
    "    result[actual[i]][pred[i]] += 1\n",
    "\n",
    "  return result"
   ]
  },
  {
   "cell_type": "code",
   "execution_count": 44,
   "metadata": {},
   "outputs": [],
   "source": [
    "import matplotlib.pyplot as plt\n",
    "def plot_confusion_matrix(df_confusion, title='Confusion matrix', cmap=plt.cm.gray_r):\n",
    "    plt.matshow(df_confusion, cmap=cmap) # imshow\n",
    "    #plt.title(title)\n",
    "    plt.colorbar()  "
   ]
  },
  {
   "cell_type": "code",
   "execution_count": 56,
   "metadata": {},
   "outputs": [
    {
     "data": {
      "text/plain": [
       "array([[10.,  0.,  0.],\n",
       "       [ 0., 10.,  0.],\n",
       "       [ 0.,  1.,  9.]])"
      ]
     },
     "execution_count": 56,
     "metadata": {},
     "output_type": "execute_result"
    }
   ],
   "source": [
    "conf_mat=compute_confusion_matrix(Y_test, predictions)\n",
    "conf_mat"
   ]
  },
  {
   "cell_type": "code",
   "execution_count": 57,
   "metadata": {},
   "outputs": [
    {
     "data": {
      "image/png": "[encoded data removed]",
      "text/plain": [
       "<Figure size 288x288 with 2 Axes>"
      ]
     },
     "metadata": {
      "needs_background": "light"
     },
     "output_type": "display_data"
    }
   ],
   "source": [
    "plot_confusion_matrix(conf_mat)"
   ]
  },
  {
   "cell_type": "code",
   "execution_count": 66,
   "metadata": {},
   "outputs": [],
   "source": [
    "fprate, tprate, thresholds = roc_curve(Y_test, predictions, pos_label=predictions)"
   ]
  },
  {
   "cell_type": "code",
   "execution_count": 67,
   "metadata": {},
   "outputs": [
    {
     "data": {
      "text/plain": [
       "array([0., 0., 1., 1.])"
      ]
     },
     "execution_count": 67,
     "metadata": {},
     "output_type": "execute_result"
    }
   ],
   "source": [
    "fprate"
   ]
  },
  {
   "cell_type": "code",
   "execution_count": 68,
   "metadata": {},
   "outputs": [
    {
     "data": {
      "text/plain": [
       "array([0.        , 0.31034483, 0.65517241, 1.        ])"
      ]
     },
     "execution_count": 68,
     "metadata": {},
     "output_type": "execute_result"
    }
   ],
   "source": [
    "tprate"
   ]
  },
  {
   "cell_type": "code",
   "execution_count": 69,
   "metadata": {},
   "outputs": [
    {
     "data": {
      "text/plain": [
       "array([3, 2, 1, 0])"
      ]
     },
     "execution_count": 69,
     "metadata": {},
     "output_type": "execute_result"
    }
   ],
   "source": [
    "thresholds"
   ]
  },
  {
   "cell_type": "code",
   "execution_count": null,
   "metadata": {},
   "outputs": [],
   "source": []
  }
 ],
 "metadata": {
  "kernelspec": {
   "display_name": "Python 3",
   "language": "python",
   "name": "python3"
  },
  "language_info": {
   "codemirror_mode": {
    "name": "ipython",
    "version": 3
   },
   "file_extension": ".py",
   "mimetype": "text/x-python",
   "name": "python",
   "nbconvert_exporter": "python",
   "pygments_lexer": "ipython3",
   "version": "3.7.9"
  }
 },
 "nbformat": 4,
 "nbformat_minor": 4
}
